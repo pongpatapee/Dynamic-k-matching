{
  "nbformat": 4,
  "nbformat_minor": 0,
  "metadata": {
    "colab": {
      "name": "Dynamic k-matching (TensorFlow).ipynb",
      "provenance": [],
      "collapsed_sections": []
    },
    "kernelspec": {
      "name": "python3",
      "display_name": "Python 3"
    },
    "language_info": {
      "name": "python"
    }
  },
  "cells": [
    {
      "cell_type": "code",
      "source": [
        "import tensorflow as tf\n",
        "import numpy as np"
      ],
      "metadata": {
        "id": "B6ATxS4iWOIJ"
      },
      "execution_count": null,
      "outputs": []
    },
    {
      "cell_type": "code",
      "execution_count": null,
      "metadata": {
        "id": "_iV5v97FnHzF"
      },
      "outputs": [],
      "source": [
        "#TensorFlow Version\n",
        "\n",
        "def dynamic_k_matching(cost, pair_wise_ious, gt_classes, num_gt, fg_mask):\n",
        "  # matching_matrix = tf.Variable(tf.zeros(cost.shape[0] * cost.shape[1]))\n",
        "  matching_matrix = tf.zeros_like(cost, dtype=tf.uint8)\n",
        "  print(f\"matching matrix: {matching_matrix}\")\n",
        "\n",
        "\n",
        "  with tf.compat.v1.Session() as sess:\n",
        "    sess.run(tf.compat.v1.global_variables_initializer())\n",
        "  flattened_idx = []\n",
        "  ious_in_boxes_matrix = pair_wise_ious\n",
        "  n_candidate_k = min(10, ious_in_boxes_matrix.shape[1])\n",
        "  print(f\"n_candidate_k: {n_candidate_k}, ious_in_boxes_matrix.shape[1]: {ious_in_boxes_matrix.shape[1]}\")\n",
        "  \n",
        "  #tf.math.top_k() causes issues/error when called under session. For some reason it is not a tf.function\n",
        "  topk_ious, _ = tf.math.top_k(ious_in_boxes_matrix, k=n_candidate_k)\n",
        "  print(f\"topk_ious: {topk_ious}\")\n",
        "\n",
        "  #changed to casting after reduce_sum (as requested from wenxin)\n",
        "  dynamic_ks = tf.math.maximum(tf.cast(tf.reduce_sum(topk_ious, axis=1), tf.int32), [1])\n",
        "  \n",
        "  print(f\"dynamic_ks: {dynamic_ks}\")\n",
        "  \n",
        "  for gt_idx in range(num_gt):\n",
        "      num_top = dynamic_ks[gt_idx]\n",
        "      _, pos_idx = tf.math.top_k(\n",
        "          -cost[gt_idx], k=num_top, sorted=False)\n",
        "      \n",
        "      print(f\"pos_idx: {pos_idx}\")\n",
        "\n",
        "      # indices and update necessary for tf.tensor_scatter_nd_update but not sure if this is optimized for tpus\n",
        "      indices = []\n",
        "      updates = []\n",
        "      for idx in pos_idx:\n",
        "        indices.append([gt_idx, idx])\n",
        "        updates.append(1)\n",
        "\n",
        "      matching_matrix = tf.tensor_scatter_nd_update(matching_matrix, indices, updates)\n",
        "      # matching_matrix[gt_idx][idx] = 1\n",
        "      \n",
        "  print(f\"matching_matrix: {matching_matrix}\")\n",
        "\n",
        "  del topk_ious, dynamic_ks, pos_idx\n",
        "\n",
        "  anchor_matching_gt = tf.math.reduce_sum(matching_matrix, 0)\n",
        "  print(f\"anchor_matching_gt = {anchor_matching_gt}\")\n",
        "  \n",
        "\n",
        "  #### NO longer needed\n",
        "  # maybe change name of var later\n",
        "  ### this block is equivalent to (anchor_matching_gt > 1).sum() in pytorch\n",
        "  # num_anchor_matched = 0\n",
        "  # for anchor in anchor_matching_gt:\n",
        "  #   if anchor > 1:\n",
        "  #     num_anchor_matched += 1\n",
        "  ###\n",
        "\n",
        "  print(f\"val for if statement: {tf.math.reduce_sum(tf.cast((anchor_matching_gt > 1), tf.int32))}\")\n",
        "  if tf.math.reduce_sum(tf.cast((anchor_matching_gt > 1), tf.int32)) > 0:\n",
        "    mask = anchor_matching_gt > 1\n",
        "    cost_after_mask = tf.boolean_mask(cost, mask, axis=1)\n",
        "    cost_argmin = tf.math.argmin(cost_after_mask)\n",
        "    print(f\"cost_argmin: {cost_argmin}\")\n",
        "    print(f\"anchor_matching_gt > 1: {anchor_matching_gt > 1}\")\n",
        "\n",
        "    #getting indices for matching_matrix[:, anchor_matching_gt > 1]\n",
        "    #getting for every row\n",
        "    mask = tf.reshape(mask, [1, len(mask)])\n",
        "    num_repeat = tf.constant([anchor_matching_gt.shape[0], 1], tf.int32)\n",
        "    tiled_mask = tf.tile(mask, num_repeat)\n",
        "    indices = tf.where(tiled_mask)\n",
        "    updates = []\n",
        "    for ind in indices:\n",
        "      updates.append(0)\n",
        "\n",
        "    matching_matrix = tf.tensor_scatter_nd_update(matching_matrix, indices, updates)\n",
        "    print(f\"matching_matrix: {matching_matrix}\")\n",
        "    \n",
        "    indices = []\n",
        "    updates = []\n",
        "    for ind, mask_val in enumerate(mask[0]):\n",
        "      if mask_val:\n",
        "        cost_ind = cost_argmin[ind]\n",
        "        index = [cost_ind, ind]\n",
        "        indices.append(index)\n",
        "        updates.append(1)\n",
        "\n",
        "    matching_matrix = tf.tensor_scatter_nd_update(matching_matrix, indices, updates)\n",
        "    print(f\"matching_matrix: {matching_matrix}\")\n",
        "  \n",
        "  ##############\n",
        "  # fg_mask_inboxes = matching_matrix.sum(0) > 0\n",
        "  fg_mask_inboxes = tf.math.reduce_sum(matching_matrix, axis=0) > 0\n",
        "\n",
        "  # num_fg = fg_mask_inboxes.sum().item()\n",
        "  num_fg = tf.math.reduce_sum( tf.cast(fg_mask_inboxes, tf.float32) )\n",
        "  print(f\"fg_mask_inboxes: {fg_mask_inboxes}, num_fg: {num_fg}\\n\")\n",
        "\n",
        "  # fg_mask[fg_mask.clone()] = fg_mask_inboxes\n",
        "  fg_mask = tf.boolean_mask(fg_mask_inboxes, fg_mask)\n",
        "  ## MAKE SURE IT WORKS\n",
        "  print(f\"fg_mask: {fg_mask}\\n\")\n",
        "\n",
        "  # matched_gt_inds = matching_matrix[:, fg_mask_inboxes].argmax(0)\n",
        "  matched_gt_inds = tf.math.argmax(tf.boolean_mask(matching_matrix, fg_mask_inboxes, axis=1))\n",
        "  print(f\"matched_gt_inds: {matched_gt_inds}\")\n",
        "\n",
        "  # gt_matched_classes = gt_classes[matched_gt_inds]\n",
        "  gt_matched_classes = tf.gather(gt_classes, matched_gt_inds)\n",
        "  print(f\"gt_matched_classes: {gt_matched_classes}\")\n",
        "\n",
        "\n",
        "  pred_ious_this_matching_temp1 = tf.math.multiply(tf.cast(matching_matrix, tf.float32), pair_wise_ious)\n",
        "  pred_ious_this_matching_temp2 = tf.math.reduce_sum(pred_ious_this_matching_temp1, axis=0) \n",
        "  pred_ious_this_matching = tf.boolean_mask(pred_ious_this_matching_temp2, fg_mask_inboxes)\n",
        "  print(f\"pred_ious_this_matching: {pred_ious_this_matching}\")\n",
        "\n",
        "  return num_fg, gt_matched_classes, pred_ious_this_matching, matched_gt_inds\n",
        "\n",
        "  "
      ]
    },
    {
      "cell_type": "code",
      "source": [
        "# cost = tf.ones([8, 8])\n",
        "cost = tf.convert_to_tensor([[0.1081, 0.4863, 0.1679, 0.3832, 0.0141, 0.6604, 0.1300, 0.1762],\n",
        "        [0.1400, 0.1980, 0.2087, 0.3757, 0.5950, 0.6953, 0.8711, 0.6065],\n",
        "        [0.0214, 0.7250, 0.5053, 0.1129, 0.5049, 0.9175, 0.8503, 0.7133],\n",
        "        [0.0845, 0.9322, 0.1333, 0.6464, 0.6768, 0.0621, 0.4914, 0.3330],\n",
        "        [0.7293, 0.9651, 0.5887, 0.0382, 0.1010, 0.0868, 0.0012, 0.8953],\n",
        "        [0.1871, 0.5527, 0.1132, 0.9443, 0.3355, 0.4003, 0.1088, 0.6429],\n",
        "        [0.1602, 0.0666, 0.7899, 0.2332, 0.7720, 0.1733, 0.2885, 0.7663],\n",
        "        [0.8238, 0.1027, 0.5462, 0.9049, 0.0366, 0.5497, 0.1775, 0.4196]])\n",
        "# pair_wise_ious = tf.ones([8, 2880])\n",
        "pair_wise_ious = tf.convert_to_tensor([[0.6325, 0.5803, 0.5652, 0.5558, 0.5212, 0.4099, 0.3997, 0.3588],\n",
        "        [0.7447, 0.6987, 0.5659, 0.4033, 0.3787, 0.2296, 0.1168, 0.0662],\n",
        "        [0.8883, 0.6677, 0.6483, 0.6067, 0.3392, 0.1518, 0.1076, 0.0939],\n",
        "        [0.9348, 0.7530, 0.6374, 0.5903, 0.3919, 0.2885, 0.2733, 0.0110],\n",
        "        [0.9011, 0.6985, 0.6685, 0.5251, 0.2050, 0.1975, 0.0348, 0.0318],\n",
        "        [0.9383, 0.9098, 0.8053, 0.7286, 0.7005, 0.2340, 0.1698, 0.0046],\n",
        "        [0.9737, 0.8708, 0.6161, 0.4645, 0.4458, 0.3038, 0.0854, 0.0497],\n",
        "        [0.7961, 0.5860, 0.5669, 0.5319, 0.4365, 0.3040, 0.1664, 0.1067]])\n",
        "gt_classes = tf.convert_to_tensor([2.0, 5.0, 63., 50., 9., 10., 70., 15.])\n",
        "num_gt = 8\n",
        "fg_mask = tf.cast(tf.ones(8), tf.bool)\n",
        "\n",
        "dynamic_k_matching(cost, pair_wise_ious, gt_classes, num_gt, fg_mask)"
      ],
      "metadata": {
        "id": "JcQ5o586oC8Q",
        "colab": {
          "base_uri": "https://localhost:8080/"
        },
        "outputId": "2eac013a-32cf-4a17-e23a-7a6365c1717f"
      },
      "execution_count": null,
      "outputs": [
        {
          "output_type": "stream",
          "name": "stdout",
          "text": [
            "matching matrix: [[0 0 0 0 0 0 0 0]\n",
            " [0 0 0 0 0 0 0 0]\n",
            " [0 0 0 0 0 0 0 0]\n",
            " [0 0 0 0 0 0 0 0]\n",
            " [0 0 0 0 0 0 0 0]\n",
            " [0 0 0 0 0 0 0 0]\n",
            " [0 0 0 0 0 0 0 0]\n",
            " [0 0 0 0 0 0 0 0]]\n",
            "n_candidate_k: 8, ious_in_boxes_matrix.shape[1]: 8\n",
            "topk_ious: [[0.6325 0.5803 0.5652 0.5558 0.5212 0.4099 0.3997 0.3588]\n",
            " [0.7447 0.6987 0.5659 0.4033 0.3787 0.2296 0.1168 0.0662]\n",
            " [0.8883 0.6677 0.6483 0.6067 0.3392 0.1518 0.1076 0.0939]\n",
            " [0.9348 0.753  0.6374 0.5903 0.3919 0.2885 0.2733 0.011 ]\n",
            " [0.9011 0.6985 0.6685 0.5251 0.205  0.1975 0.0348 0.0318]\n",
            " [0.9383 0.9098 0.8053 0.7286 0.7005 0.234  0.1698 0.0046]\n",
            " [0.9737 0.8708 0.6161 0.4645 0.4458 0.3038 0.0854 0.0497]\n",
            " [0.7961 0.586  0.5669 0.5319 0.4365 0.304  0.1664 0.1067]]\n",
            "dynamic_ks: [4 3 3 3 3 4 3 3]\n",
            "pos_idx: [2 0 6 4]\n",
            "pos_idx: [2 1 0]\n",
            "pos_idx: [4 3 0]\n",
            "pos_idx: [2 0 5]\n",
            "pos_idx: [5 3 6]\n",
            "pos_idx: [4 0 2 6]\n",
            "pos_idx: [5 1 0]\n",
            "pos_idx: [6 1 4]\n",
            "matching_matrix: [[1 0 1 0 1 0 1 0]\n",
            " [1 1 1 0 0 0 0 0]\n",
            " [1 0 0 1 1 0 0 0]\n",
            " [1 0 1 0 0 1 0 0]\n",
            " [0 0 0 1 0 1 1 0]\n",
            " [1 0 1 0 1 0 1 0]\n",
            " [1 1 0 0 0 1 0 0]\n",
            " [0 1 0 0 1 0 1 0]]\n",
            "anchor_matching_gt = [6 3 4 2 4 3 4 0]\n",
            "val for if statement: 7\n",
            "cost_argmin: [2 6 5 4 0 3 4]\n",
            "anchor_matching_gt > 1: [ True  True  True  True  True  True  True False]\n",
            "matching_matrix: [[0 0 0 0 0 0 0 0]\n",
            " [0 0 0 0 0 0 0 0]\n",
            " [0 0 0 0 0 0 0 0]\n",
            " [0 0 0 0 0 0 0 0]\n",
            " [0 0 0 0 0 0 0 0]\n",
            " [0 0 0 0 0 0 0 0]\n",
            " [0 0 0 0 0 0 0 0]\n",
            " [0 0 0 0 0 0 0 0]]\n",
            "matching_matrix: [[0 0 0 0 1 0 0 0]\n",
            " [0 0 0 0 0 0 0 0]\n",
            " [1 0 0 0 0 0 0 0]\n",
            " [0 0 0 0 0 1 0 0]\n",
            " [0 0 0 1 0 0 1 0]\n",
            " [0 0 1 0 0 0 0 0]\n",
            " [0 1 0 0 0 0 0 0]\n",
            " [0 0 0 0 0 0 0 0]]\n",
            "fg_mask_inboxes: [ True  True  True  True  True  True  True False], num_fg: 7.0\n",
            "\n",
            "fg_mask: [ True  True  True  True  True  True  True False]\n",
            "\n",
            "matched_gt_inds: [2 6 5 4 0 3 4]\n",
            "gt_matched_classes: [63. 70. 10.  9.  2. 50.  9.]\n",
            "pred_ious_this_matching: [0.8883 0.8708 0.8053 0.5251 0.5212 0.2885 0.0348]\n"
          ]
        },
        {
          "output_type": "execute_result",
          "data": {
            "text/plain": [
              "(<tf.Tensor: shape=(), dtype=float32, numpy=7.0>,\n",
              " <tf.Tensor: shape=(7,), dtype=float32, numpy=array([63., 70., 10.,  9.,  2., 50.,  9.], dtype=float32)>,\n",
              " <tf.Tensor: shape=(7,), dtype=float32, numpy=\n",
              " array([0.8883, 0.8708, 0.8053, 0.5251, 0.5212, 0.2885, 0.0348],\n",
              "       dtype=float32)>,\n",
              " <tf.Tensor: shape=(7,), dtype=int64, numpy=array([2, 6, 5, 4, 0, 3, 4])>)"
            ]
          },
          "metadata": {},
          "execution_count": 9
        }
      ]
    },
    {
      "cell_type": "code",
      "source": [
        "test = tf.constant([1, 2, 3, 5, 0, -1, 2])\n",
        "test2 = tf.Variable([1, 2, 3, 5, 0, -1, 2])\n",
        "print(tf.math.reduce_sum(tf.cast((test > 1), tf.int32)))\n",
        "print(test2 > 1)\n",
        "\n",
        "# cost[:, tf.cast(test > 1, tf.int32)]"
      ],
      "metadata": {
        "id": "gflvzQisiQmG",
        "colab": {
          "base_uri": "https://localhost:8080/"
        },
        "outputId": "34bbbc58-ed54-4373-cc97-9b6e64a46037"
      },
      "execution_count": null,
      "outputs": [
        {
          "output_type": "stream",
          "name": "stdout",
          "text": [
            "tf.Tensor(4, shape=(), dtype=int32)\n",
            "tf.Tensor([False  True  True  True False False  True], shape=(7,), dtype=bool)\n"
          ]
        }
      ]
    },
    {
      "cell_type": "code",
      "source": [
        "anchor_matching_gt = tf.constant([6, 3, 4, 2, 4, 3, 4, 0])\n",
        "matching_matrix = tf.constant([[1, 0, 1, 0, 1, 0, 1, 0],\n",
        "        [1, 1, 1, 0, 0, 0, 0, 0],\n",
        "        [1, 0, 0, 1, 1, 0, 0, 0],\n",
        "        [1, 0, 1, 0, 0, 1, 0, 0],\n",
        "        [0, 0, 0, 1, 0, 1, 1, 0],\n",
        "        [1, 0, 1, 0, 1, 0, 1, 0],\n",
        "        [1, 1, 0, 0, 0, 1, 0, 0],\n",
        "        [0, 1, 0, 0, 1, 0, 1, 0]])\n",
        "\n",
        "mask = anchor_matching_gt > 1\n",
        "tf.boolean_mask(cost, mask, axis=1)\n",
        "print(f\"mask: {mask}\")\n",
        "# masked_matching_matrix = tf.boolean_mask(matching_matrix, mask,axis=1)\n",
        "# print(masked_matching_matrix)\n",
        "print(tf.shape(mask))\n",
        "mask = tf.reshape(mask, [1, len(mask)])\n",
        "print(mask)\n",
        "num_repeat = tf.constant([4, 1], tf.int32)\n",
        "print(tf.tile(mask, num_repeat))\n",
        "print(tf.where(mask))\n",
        "# matching_matrix *= 0\n",
        "# for row in range(matching_matrix.shape[0]):\n",
        "  # matching_matrix[row, :] *= 3\n",
        "  # print(matching_matrix[row, :])"
      ],
      "metadata": {
        "colab": {
          "base_uri": "https://localhost:8080/"
        },
        "id": "DYDK6lOplImB",
        "outputId": "e07a6561-cda9-4898-aa60-b8949cd5c3f9"
      },
      "execution_count": null,
      "outputs": [
        {
          "output_type": "stream",
          "name": "stdout",
          "text": [
            "mask: [ True  True  True  True  True  True  True False]\n",
            "tf.Tensor([8], shape=(1,), dtype=int32)\n",
            "tf.Tensor([[ True  True  True  True  True  True  True False]], shape=(1, 8), dtype=bool)\n",
            "tf.Tensor(\n",
            "[[ True  True  True  True  True  True  True False]\n",
            " [ True  True  True  True  True  True  True False]\n",
            " [ True  True  True  True  True  True  True False]\n",
            " [ True  True  True  True  True  True  True False]], shape=(4, 8), dtype=bool)\n",
            "tf.Tensor(\n",
            "[[0 0]\n",
            " [0 1]\n",
            " [0 2]\n",
            " [0 3]\n",
            " [0 4]\n",
            " [0 5]\n",
            " [0 6]], shape=(7, 2), dtype=int64)\n"
          ]
        }
      ]
    },
    {
      "cell_type": "code",
      "source": [
        ""
      ],
      "metadata": {
        "id": "DbGyj4jM5pxg"
      },
      "execution_count": null,
      "outputs": []
    }
  ]
}