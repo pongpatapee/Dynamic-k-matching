{
  "cells": [
    {
      "cell_type": "code",
      "execution_count": null,
      "metadata": {
        "id": "JbpxxkSNM0B5"
      },
      "outputs": [],
      "source": [
        "import numpy as np\n",
        "import tensorflow as tf\n",
        "import torch\n",
        "import logging"
      ]
    },
    {
      "cell_type": "code",
      "execution_count": null,
      "metadata": {
        "id": "vhTrAtEpOINa"
      },
      "outputs": [],
      "source": [
        "#Pytorch's version\n",
        "\n",
        "def dynamic_k_matching(cost, pair_wise_ious, gt_classes, num_gt, fg_mask):\n",
        "      # Dynamic K\n",
        "      # ---------------------------------------------------------------\n",
        "      matching_matrix = torch.zeros_like(cost, dtype=torch.uint8)\n",
        "      print(f\"matching matrix: {matching_matrix}\")\n",
        "\n",
        "      ious_in_boxes_matrix = pair_wise_ious\n",
        "      n_candidate_k = min(10, ious_in_boxes_matrix.size(1))\n",
        "      print(f\"n_candidate_k: {n_candidate_k}, ious_in_boxes_matrix.size(1): {ious_in_boxes_matrix.size(1)}\")\n",
        "      topk_ious, _ = torch.topk(ious_in_boxes_matrix, n_candidate_k, dim=1)\n",
        "      print(f\"topk_ious: {topk_ious}\")\n",
        "      dynamic_ks = torch.clamp(topk_ious.sum(1).int(), min=1)\n",
        "      dynamic_ks = dynamic_ks.tolist()\n",
        "   \n",
        "      print(f\"dynamic_ks: {dynamic_ks}\")\n",
        "\n",
        "      for gt_idx in range(num_gt):\n",
        "          _, pos_idx = torch.topk(\n",
        "              cost[gt_idx], k=dynamic_ks[gt_idx], largest=False\n",
        "          )\n",
        "          print(f\"pos_idx: {pos_idx}\")\n",
        "          matching_matrix[gt_idx][pos_idx] = 1\n",
        "\n",
        "      print(f\"matching_matrix: {matching_matrix}\")\n",
        "\n",
        "      del topk_ious, dynamic_ks, pos_idx\n",
        "\n",
        "      anchor_matching_gt = matching_matrix.sum(0)\n",
        "      print(f\"anchor_matching_gt = {anchor_matching_gt}\")\n",
        "\n",
        "      # print(f\"weird if statement: {(anchor_matching_gt > 1), (anchor_matching_gt > 1).sum()}\")\n",
        "      #(anchor_matching_gt > 1 creates a tensor of true/false e.g. [0, 1, 2, 3] -> [false, false, true ,true])\n",
        "      #(anchor_matching_gt > 1).sum() returns a scalar of how many of the elements were true\n",
        "      print(f\"val for if statement: {(anchor_matching_gt > 1).sum()}\")\n",
        "      if (anchor_matching_gt > 1).sum() > 0:\n",
        "          _, cost_argmin = torch.min(cost[:, anchor_matching_gt > 1], dim=0)\n",
        "          print(f\"cost_argmin: {cost_argmin}\")\n",
        "          print(f\"anchor_matching_gt > 1: {anchor_matching_gt > 1}\")\n",
        "\n",
        "          matching_matrix[:, anchor_matching_gt > 1] *= 0\n",
        "          print(f\"matching_matrix: {matching_matrix}\")\n",
        "\n",
        "          matching_matrix[cost_argmin, anchor_matching_gt > 1] = 1\n",
        "          print(f\"matching_matrix: {matching_matrix}\")\n",
        "\n",
        "      # Continue from here\n",
        "      fg_mask_inboxes = matching_matrix.sum(0) > 0\n",
        "\n",
        "      num_fg = fg_mask_inboxes.sum().item()\n",
        "      print(f\"fg_mask_inboxes: {fg_mask_inboxes}, num_fg: {num_fg}\\n\")\n",
        "\n",
        "      fg_mask[fg_mask.clone()] = fg_mask_inboxes\n",
        "      print(f\"fg_mask: {fg_mask}\")\n",
        "      \n",
        "      matched_gt_inds = matching_matrix[:, fg_mask_inboxes].argmax(0)\n",
        "      # print(f\"matching_matrix[:, fg_mask_inboxes]: {matching_matrix[:, fg_mask_inboxes]}\\n\")\n",
        "      print(f\"matched_gt_inds: {matched_gt_inds}\")\n",
        "\n",
        "      gt_matched_classes = gt_classes[matched_gt_inds]\n",
        "      print(f\"gt_matched_classes: {gt_matched_classes}\")\n",
        "      \n",
        "      pred_ious_this_matching = (matching_matrix * pair_wise_ious).sum(0)[\n",
        "          fg_mask_inboxes\n",
        "      ]\n",
        "      print(f\"pred_ious_this_matching: {pred_ious_this_matching}\")\n",
        "      return num_fg, gt_matched_classes, pred_ious_this_matching, matched_gt_inds"
      ]
    },
    {
      "cell_type": "code",
      "execution_count": null,
      "metadata": {
        "colab": {
          "base_uri": "https://localhost:8080/"
        },
        "id": "lM7H37NA6Htl",
        "outputId": "401a6bab-2513-44da-c444-bf8de0f176a3"
      },
      "outputs": [
        {
          "name": "stdout",
          "output_type": "stream",
          "text": [
            "matching matrix: tensor([[0, 0, 0, 0, 0, 0, 0, 0],\n",
            "        [0, 0, 0, 0, 0, 0, 0, 0],\n",
            "        [0, 0, 0, 0, 0, 0, 0, 0],\n",
            "        [0, 0, 0, 0, 0, 0, 0, 0],\n",
            "        [0, 0, 0, 0, 0, 0, 0, 0],\n",
            "        [0, 0, 0, 0, 0, 0, 0, 0],\n",
            "        [0, 0, 0, 0, 0, 0, 0, 0],\n",
            "        [0, 0, 0, 0, 0, 0, 0, 0]], dtype=torch.uint8)\n",
            "n_candidate_k: 8, ious_in_boxes_matrix.size(1): 8\n",
            "topk_ious: tensor([[1., 1., 1., 1., 1., 1., 1., 1.],\n",
            "        [1., 1., 1., 1., 1., 1., 1., 1.],\n",
            "        [1., 1., 1., 1., 1., 1., 1., 1.],\n",
            "        [1., 1., 1., 1., 1., 1., 1., 1.],\n",
            "        [1., 1., 1., 1., 1., 1., 1., 1.],\n",
            "        [1., 1., 1., 1., 1., 1., 1., 1.],\n",
            "        [1., 1., 1., 1., 1., 1., 1., 1.],\n",
            "        [1., 1., 1., 1., 1., 1., 1., 1.]])\n",
            "dynamic_ks: [8, 8, 8, 8, 8, 8, 8, 8]\n",
            "pos_idx: tensor([4, 0, 6, 2, 7, 3, 1, 5])\n",
            "pos_idx: tensor([0, 1, 2, 3, 4, 7, 5, 6])\n",
            "pos_idx: tensor([0, 3, 4, 2, 7, 1, 6, 5])\n",
            "pos_idx: tensor([5, 0, 2, 7, 6, 3, 4, 1])\n",
            "pos_idx: tensor([6, 3, 5, 4, 2, 0, 7, 1])\n",
            "pos_idx: tensor([6, 2, 0, 4, 5, 1, 7, 3])\n",
            "pos_idx: tensor([1, 0, 5, 3, 6, 7, 4, 2])\n",
            "pos_idx: tensor([4, 1, 6, 7, 2, 5, 0, 3])\n",
            "matching_matrix: tensor([[1, 1, 1, 1, 1, 1, 1, 1],\n",
            "        [1, 1, 1, 1, 1, 1, 1, 1],\n",
            "        [1, 1, 1, 1, 1, 1, 1, 1],\n",
            "        [1, 1, 1, 1, 1, 1, 1, 1],\n",
            "        [1, 1, 1, 1, 1, 1, 1, 1],\n",
            "        [1, 1, 1, 1, 1, 1, 1, 1],\n",
            "        [1, 1, 1, 1, 1, 1, 1, 1],\n",
            "        [1, 1, 1, 1, 1, 1, 1, 1]], dtype=torch.uint8)\n",
            "anchor_matching_gt = tensor([8, 8, 8, 8, 8, 8, 8, 8])\n",
            "val for if statement: 8\n",
            "cost_argmin: tensor([2, 6, 5, 4, 0, 3, 4, 0])\n",
            "anchor_matching_gt > 1: tensor([True, True, True, True, True, True, True, True])\n",
            "matching_matrix: tensor([[0, 0, 0, 0, 0, 0, 0, 0],\n",
            "        [0, 0, 0, 0, 0, 0, 0, 0],\n",
            "        [0, 0, 0, 0, 0, 0, 0, 0],\n",
            "        [0, 0, 0, 0, 0, 0, 0, 0],\n",
            "        [0, 0, 0, 0, 0, 0, 0, 0],\n",
            "        [0, 0, 0, 0, 0, 0, 0, 0],\n",
            "        [0, 0, 0, 0, 0, 0, 0, 0],\n",
            "        [0, 0, 0, 0, 0, 0, 0, 0]], dtype=torch.uint8)\n",
            "matching_matrix: tensor([[0, 0, 0, 0, 1, 0, 0, 1],\n",
            "        [0, 0, 0, 0, 0, 0, 0, 0],\n",
            "        [1, 0, 0, 0, 0, 0, 0, 0],\n",
            "        [0, 0, 0, 0, 0, 1, 0, 0],\n",
            "        [0, 0, 0, 1, 0, 0, 1, 0],\n",
            "        [0, 0, 1, 0, 0, 0, 0, 0],\n",
            "        [0, 1, 0, 0, 0, 0, 0, 0],\n",
            "        [0, 0, 0, 0, 0, 0, 0, 0]], dtype=torch.uint8)\n",
            "fg_mask_inboxes: tensor([True, True, True, True, True, True, True, True]), num_fg: 8\n",
            "\n",
            "fg_mask: tensor([True, True, True, True, True, True, True, True])\n",
            "matched_gt_inds: tensor([2, 6, 5, 4, 0, 3, 4, 0])\n",
            "gt_matched_classes: tensor([63., 70., 10.,  9.,  2., 50.,  9.,  2.])\n",
            "pred_ious_this_matching: tensor([1., 1., 1., 1., 1., 1., 1., 1.])\n"
          ]
        },
        {
          "data": {
            "text/plain": [
              "(8,\n",
              " tensor([63., 70., 10.,  9.,  2., 50.,  9.,  2.]),\n",
              " tensor([1., 1., 1., 1., 1., 1., 1., 1.]),\n",
              " tensor([2, 6, 5, 4, 0, 3, 4, 0]))"
            ]
          },
          "execution_count": 9,
          "metadata": {},
          "output_type": "execute_result"
        }
      ],
      "source": [
        "# cost = torch.ones(8, 8)\n",
        "cost = torch.tensor([[0.1081, 0.4863, 0.1679, 0.3832, 0.0141, 0.6604, 0.1300, 0.1762],\n",
        "        [0.1400, 0.1980, 0.2087, 0.3757, 0.5950, 0.6953, 0.8711, 0.6065],\n",
        "        [0.0214, 0.7250, 0.5053, 0.1129, 0.5049, 0.9175, 0.8503, 0.7133],\n",
        "        [0.0845, 0.9322, 0.1333, 0.6464, 0.6768, 0.0621, 0.4914, 0.3330],\n",
        "        [0.7293, 0.9651, 0.5887, 0.0382, 0.1010, 0.0868, 0.0012, 0.8953],\n",
        "        [0.1871, 0.5527, 0.1132, 0.9443, 0.3355, 0.4003, 0.1088, 0.6429],\n",
        "        [0.1602, 0.0666, 0.7899, 0.2332, 0.7720, 0.1733, 0.2885, 0.7663],\n",
        "        [0.8238, 0.1027, 0.5462, 0.9049, 0.0366, 0.5497, 0.1775, 0.4196]])\n",
        "pair_wise_ious = torch.ones(8, 8)\n",
        "# pair_wise_ious = torch.tensor([[0.6325, 0.5803, 0.5652, 0.5558, 0.5212, 0.4099, 0.3997, 0.3588],\n",
        "#         [0.7447, 0.6987, 0.5659, 0.4033, 0.3787, 0.2296, 0.1168, 0.0662],\n",
        "#         [0.8883, 0.6677, 0.6483, 0.6067, 0.3392, 0.1518, 0.1076, 0.0939],\n",
        "#         [0.9348, 0.7530, 0.6374, 0.5903, 0.3919, 0.2885, 0.2733, 0.0110],\n",
        "#         [0.9011, 0.6985, 0.6685, 0.5251, 0.2050, 0.1975, 0.0348, 0.0318],\n",
        "#         [0.9383, 0.9098, 0.8053, 0.7286, 0.7005, 0.2340, 0.1698, 0.0046],\n",
        "#         [0.9737, 0.8708, 0.6161, 0.4645, 0.4458, 0.3038, 0.0854, 0.0497],\n",
        "#         [0.7961, 0.5860, 0.5669, 0.5319, 0.4365, 0.3040, 0.1664, 0.1067]])\n",
        "gt_classes = torch.tensor([2.0, 5.0, 63., 50., 9., 10., 70., 15.])\n",
        "num_gt = 8\n",
        "fg_mask = torch.ones(8, dtype=torch.bool)\n",
        "dynamic_k_matching(cost, pair_wise_ious, gt_classes, num_gt, fg_mask)"
      ]
    },
    {
      "cell_type": "code",
      "execution_count": null,
      "metadata": {
        "colab": {
          "base_uri": "https://localhost:8080/"
        },
        "id": "sbtDaMl1iTnU",
        "outputId": "08676264-ec3c-4d83-95fe-3465a1e79a6e"
      },
      "outputs": [
        {
          "name": "stdout",
          "output_type": "stream",
          "text": [
            "tensor([[ 0,  1,  2,  3,  4,  5,  6,  7],\n",
            "        [ 8,  9, 10, 11, 12, 13, 14, 15],\n",
            "        [16, 17, 18, 19, 20, 21, 22, 23],\n",
            "        [24, 25, 26, 27, 28, 29, 30, 31],\n",
            "        [32, 33, 34, 35, 36, 37, 38, 39],\n",
            "        [40, 41, 42, 43, 44, 45, 46, 47],\n",
            "        [48, 49, 50, 51, 52, 53, 54, 55],\n",
            "        [56, 57, 58, 59, 60, 61, 62, 63]])\n",
            "tensor([ True,  True,  True,  True,  True,  True,  True, False])\n",
            "tensor([[0.1081, 0.4863, 0.1679, 0.3832, 0.0141, 0.6604, 0.1300],\n",
            "        [0.1400, 0.1980, 0.2087, 0.3757, 0.5950, 0.6953, 0.8711],\n",
            "        [0.0214, 0.7250, 0.5053, 0.1129, 0.5049, 0.9175, 0.8503],\n",
            "        [0.0845, 0.9322, 0.1333, 0.6464, 0.6768, 0.0621, 0.4914],\n",
            "        [0.7293, 0.9651, 0.5887, 0.0382, 0.1010, 0.0868, 0.0012],\n",
            "        [0.1871, 0.5527, 0.1132, 0.9443, 0.3355, 0.4003, 0.1088],\n",
            "        [0.1602, 0.0666, 0.7899, 0.2332, 0.7720, 0.1733, 0.2885],\n",
            "        [0.8238, 0.1027, 0.5462, 0.9049, 0.0366, 0.5497, 0.1775]])\n",
            "tensor([16, 49, 42, 35,  4, 29, 38])\n"
          ]
        }
      ],
      "source": [
        "anchor_matching_gt = torch.tensor([6, 3, 4, 2, 4, 3, 4, 0])\n",
        "# matching_matrix = torch.tensor([[0, 0, 1, 0, 1, 0, 1, 0],\n",
        "#         [1, 1, 1, 0, 0, 0, 0, 0],\n",
        "#         [2, 0, 0, 1, 1, 0, 0, 0],\n",
        "#         [3, 0, 1, 0, 0, 1, 0, 0],\n",
        "#         [4, 0, 0, 1, 0, 1, 1, 0],\n",
        "#         [5, 0, 1, 0, 1, 0, 1, 0],\n",
        "#         [6, 1, 0, 0, 0, 1, 0, 0],\n",
        "#         [7, 1, 0, 0, 1, 0, 1, 0]])\n",
        "matching_matrix = []\n",
        "for i in range(8):\n",
        "  temp = []\n",
        "  for j in range(8):\n",
        "    temp.append(i*8 + j)\n",
        "  matching_matrix.append(temp)\n",
        "matching_matrix = torch.tensor(matching_matrix)\n",
        "print(matching_matrix)\n",
        "\n",
        "print(anchor_matching_gt > 1)\n",
        "print(cost[:, anchor_matching_gt > 1])\n",
        "\n",
        "cost_argmin = torch.tensor([2, 6, 5, 4, 0, 3, 4])\n",
        "matching_matrix[cost_argmin, anchor_matching_gt > 1]\n",
        "print(matching_matrix[cost_argmin, anchor_matching_gt > 1])\n",
        "\n",
        "# print(matching_matrix)\n",
        "# # matching_matrix[:, anchor_matching_gt > 1] *= 0\n",
        "# print(matching_matrix[:, anchor_matching_gt > 1])\n",
        "# print(matching_matrix)"
      ]
    },
    {
      "cell_type": "code",
      "execution_count": null,
      "metadata": {
        "colab": {
          "base_uri": "https://localhost:8080/"
        },
        "id": "ldjlLzYCkrN7",
        "outputId": "55cc4693-dc54-43d0-dd13-5bf0cb6cb85c"
      },
      "outputs": [
        {
          "name": "stdout",
          "output_type": "stream",
          "text": [
            "7\n",
            "fg_mask_inboxes: tensor([ True, False,  True,  True,  True,  True,  True,  True]), num_fg: 7\n",
            "\n",
            "fg_mask: [ True False  True  True  True  True  True  True]\n",
            "\n"
          ]
        }
      ],
      "source": [
        "matching_matrix =[[1, 0, 1, 0, 1, 0, 1, 9],\n",
        "                  [1, 0, 1, 0, 0, 0, 0, 9],\n",
        "                  [1, 0, 0, 1, 1, 0, 0, 9],\n",
        "                  [1, 0, 1, 0, 0, 1, 0, 9],\n",
        "                  [0, 0, 0, 1, 0, 1, 1, 9],\n",
        "                  [1, 0, 1, 0, 1, 0, 1, 9],\n",
        "                  [1, 0, 0, 0, 0, 1, 0, 9],\n",
        "                  [0, 0, 0, 0, 1, 0, 1, 9]]\n",
        "matching_matrix = torch.tensor(matching_matrix)\n",
        "fg_mask_inboxes = matching_matrix.sum(0) > 0\n",
        "num_fg = fg_mask_inboxes.sum().item()\n",
        "print(num_fg)\n",
        "print(f\"fg_mask_inboxes: {fg_mask_inboxes}, num_fg: {num_fg}\\n\")\n",
        "fg_mask = tf.boolean_mask(fg_mask_inboxes, fg_mask)\n",
        "## MAKE SURE ABOUT IT\n",
        "print(f\"fg_mask: {fg_mask}\\n\")"
      ]
    }
  ],
  "metadata": {
    "colab": {
      "name": "Dynamic k-matching (Pytorch).ipynb",
      "provenance": []
    },
    "kernelspec": {
      "display_name": "Python 3.9.7 ('base')",
      "language": "python",
      "name": "python3"
    },
    "language_info": {
      "name": "python",
      "version": "3.9.7"
    },
    "vscode": {
      "interpreter": {
        "hash": "6fb7ab13a3c2b1a26119923fcd19baacdecfcc663b0cca2f8ee45db3526c5bdd"
      }
    }
  },
  "nbformat": 4,
  "nbformat_minor": 0
}
